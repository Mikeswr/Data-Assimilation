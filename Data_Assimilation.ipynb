{
 "cells": [
  {
   "cell_type": "code",
   "execution_count": 2,
   "id": "658aba75",
   "metadata": {},
   "outputs": [
    {
     "name": "stdout",
     "output_type": "stream",
     "text": [
      "Observations: [15.2 16.1 14.5 15.8 25. ]\n",
      "Model Output: [14.8 15.5 14.  16.  25.3]\n",
      "Analysis: [14.88 15.62 14.1  15.96 25.24]\n",
      "RMSE (Model Output): 0.4242640687119287\n",
      "RMSE (Analysis): 0.3394112549695423\n",
      "Bias (Model Output): -0.2\n",
      "Bias (Analysis): -0.2\n"
     ]
    }
   ],
   "source": [
    "# MICHAEL NIMAKO FREMPONG - 4292820\n",
    "\n",
    "import numpy as np\n",
    "\n",
    "def optimal_interpolation(observations, model_output, obs_error=1.0, model_error=2.0):\n",
    "  \"\"\"\n",
    "  This function implements a simple Optimal Interpolation (OI) data assimilation technique.\n",
    "\n",
    "  Args:\n",
    "      observations (np.array): Array of observational data.\n",
    "      model_output (np.array): Array of model predictions.\n",
    "      obs_error (float, optional): Standard deviation of observation error. Defaults to 1.0.\n",
    "      model_error (float, optional): Standard deviation of model error. Defaults to 2.0.\n",
    "\n",
    "  Returns:\n",
    "      np.array: Array of analysis fields representing the best estimate of the atmospheric state.\n",
    "  \"\"\"\n",
    "\n",
    "  # Calculate weights based on error variances\n",
    "  weights = obs_error**2 / (obs_error**2 + model_error**2)\n",
    "\n",
    "  # Apply weights to observations and model output\n",
    "  analysis = weights * observations + (1 - weights) * model_output\n",
    "\n",
    "  return analysis\n",
    "\n",
    "# Sample data\n",
    "observations = np.array([15.2, 16.1, 14.5, 15.8, 25.0])\n",
    "model_output = np.array([14.8, 15.5, 14.0, 16.0, 25.3])\n",
    "\n",
    "# Perform data assimilation using Optimal Interpolation\n",
    "analysis = optimal_interpolation(observations, model_output)\n",
    "\n",
    "# Print results\n",
    "print(\"Observations:\", observations)\n",
    "print(\"Model Output:\", model_output)\n",
    "print(\"Analysis:\", analysis)\n",
    "\n",
    "# Calculate RMSE for observations, model output, and analysis (relative to observations)\n",
    "def rmse(data, reference):\n",
    "  return np.sqrt(np.mean((data - reference)**2))\n",
    "\n",
    "rmse_obs = rmse(model_output, observations)\n",
    "rmse_model = rmse(analysis, observations)\n",
    "\n",
    "print(\"RMSE (Model Output):\", rmse_obs)\n",
    "print(\"RMSE (Analysis):\", rmse_model)\n",
    "\n",
    "# Calculate bias for model output and analysis (relative to observations)\n",
    "def bias(data, reference):  \n",
    "  return np.mean(data - reference)\n",
    "\n",
    "bias_model = bias(model_output, observations)\n",
    "bias_analysis = bias(model_output, observations)\n",
    "\n",
    "print(\"Bias (Model Output):\", bias_model)\n",
    "print(\"Bias (Analysis):\", bias_analysis)\n"
   ]
  },
  {
   "cell_type": "code",
   "execution_count": null,
   "id": "7ab52522",
   "metadata": {},
   "outputs": [],
   "source": []
  }
 ],
 "metadata": {
  "kernelspec": {
   "display_name": "Python 3 (ipykernel)",
   "language": "python",
   "name": "python3"
  },
  "language_info": {
   "codemirror_mode": {
    "name": "ipython",
    "version": 3
   },
   "file_extension": ".py",
   "mimetype": "text/x-python",
   "name": "python",
   "nbconvert_exporter": "python",
   "pygments_lexer": "ipython3",
   "version": "3.10.9"
  }
 },
 "nbformat": 4,
 "nbformat_minor": 5
}
